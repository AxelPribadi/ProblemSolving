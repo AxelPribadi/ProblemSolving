{
 "cells": [
  {
   "cell_type": "markdown",
   "metadata": {},
   "source": [
    "### Conencting the Numbers (Shopee Code League 2022 Q5)"
   ]
  },
  {
   "cell_type": "markdown",
   "metadata": {},
   "source": [
    "Question"
   ]
  },
  {
   "cell_type": "markdown",
   "metadata": {},
   "source": [
    "![alternative text](shopee51.png)"
   ]
  },
  {
   "cell_type": "markdown",
   "metadata": {},
   "source": [
    "![alternative text](shopee52.png)"
   ]
  },
  {
   "cell_type": "code",
   "execution_count": 1,
   "metadata": {},
   "outputs": [],
   "source": [
    "import numpy as np\n",
    "import networkx as nx\n",
    "import matplotlib.pyplot as plt"
   ]
  },
  {
   "cell_type": "code",
   "execution_count": 2,
   "metadata": {},
   "outputs": [
    {
     "name": "stdout",
     "output_type": "stream",
     "text": [
      "2\n",
      "3\n",
      "1 2 3 1 2 3\n",
      "3\n",
      "1 2 1 3 2 3\n",
      "no\n",
      "yes\n"
     ]
    }
   ],
   "source": [
    "import networkx as nx\n",
    "\n",
    "def checkPlanar():\n",
    "    #create graph\n",
    "    G = nx.path_graph(2*n)\n",
    "    #connect start and end\n",
    "    points = list(G.nodes())\n",
    "    G.add_edge(min(points), max(points), weight = 1)\n",
    "\n",
    "    # get pair values to connect in graph\n",
    "    pairs = []\n",
    "\n",
    "    for i in range(len(ni)):\n",
    "        for j in range(i+1, len(ni)):\n",
    "            if ni[i] == ni[j]:\n",
    "                pairs.append([i,j])\n",
    "\n",
    "    for pair in range(len(pairs)):\n",
    "        start = pairs[pair][0]\n",
    "        end = pairs[pair][1]\n",
    "        G.add_edge(start, end ,weight = 1)\n",
    "\n",
    "\n",
    "    planar = nx.check_planarity(G)[0]\n",
    "    \n",
    "    if planar:\n",
    "        output.append(\"yes\")\n",
    "    else:\n",
    "        output.append(\"no\")\n",
    "\n",
    "\n",
    "# ======================================\n",
    "\n",
    "output = []\n",
    "\n",
    "while True:\n",
    "    t = int(input())\n",
    "    if (1 <= t) and (t <= 50):\n",
    "        break\n",
    "\n",
    "for i in range(t):\n",
    "    while True:\n",
    "        n = int(input())\n",
    "        if (1 <= n) and (n <= 10**5):\n",
    "            break\n",
    "    \n",
    "    while True:\n",
    "        ni = list(input().split())\n",
    "        if len(ni) == 2*n:\n",
    "            break\n",
    "            \n",
    "    checkPlanar()\n",
    "        \n",
    "    \n",
    "                \n",
    "for i in output:\n",
    "    print(i)\n",
    "        \n",
    "        \n",
    "    \n"
   ]
  },
  {
   "cell_type": "code",
   "execution_count": null,
   "metadata": {},
   "outputs": [],
   "source": []
  }
 ],
 "metadata": {
  "kernelspec": {
   "display_name": "Python 3",
   "language": "python",
   "name": "python3"
  },
  "language_info": {
   "codemirror_mode": {
    "name": "ipython",
    "version": 3
   },
   "file_extension": ".py",
   "mimetype": "text/x-python",
   "name": "python",
   "nbconvert_exporter": "python",
   "pygments_lexer": "ipython3",
   "version": "3.7.6"
  }
 },
 "nbformat": 4,
 "nbformat_minor": 4
}
